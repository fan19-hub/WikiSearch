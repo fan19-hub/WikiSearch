{
 "cells": [
  {
   "cell_type": "code",
   "execution_count": 1,
   "metadata": {},
   "outputs": [],
   "source": [
    "import pyarrow.parquet as pq\n",
    "from langchain_community.document_loaders.csv_loader import CSVLoader\n",
    "\n",
    "parquet_file = pq.ParquetFile('rawdata/test-00000-of-00001.parquet')\n",
    "alldb = parquet_file.read().to_pandas()\n",
    "labeltable = alldb.loc[alldb['label']==1]\n",
    "unique_qid = labeltable['question_id'].unique()\n",
    "loader = CSVLoader(file_path='text.csv',source_column=\"answer\",csv_args={\n",
    "    # 'delimiter': ',',\n",
    "    # 'fieldnames': ['question_id', 'question', 'document_title', 'answer','label']\n",
    "})\n",
    "docdata = loader.load()"
   ]
  },
  {
   "cell_type": "code",
   "execution_count": 2,
   "metadata": {},
   "outputs": [],
   "source": [
    "from langchain_community.embeddings import OllamaEmbeddings, HuggingFaceEmbeddings\n",
    "from langchain_community.vectorstores import FAISS\n",
    "from langchain_text_splitters import RecursiveCharacterTextSplitter\n",
    "\n",
    "embeddings = HuggingFaceEmbeddings()\n",
    "vector = FAISS.from_documents(docdata, embeddings)"
   ]
  },
  {
   "cell_type": "code",
   "execution_count": 3,
   "metadata": {},
   "outputs": [],
   "source": [
    "def retrieve_doc(k, query):\n",
    "    ret = vector.as_retriever(search_kwargs={\"k\": k}).get_relevant_documents(query)\n",
    "    return ret\n",
    "\n",
    "def get_precision(gtlist, prelist):\n",
    "    count = 0\n",
    "    for item in prelist:\n",
    "        if(item in gtlist):\n",
    "            count += 1\n",
    "    return count / len(prelist)\n",
    "\n",
    "def get_recall(gtlist, prelist):\n",
    "    count = 0\n",
    "    for item in gtlist:\n",
    "        if(item in prelist):\n",
    "            count += 1\n",
    "    return count / len(gtlist)\n",
    "\n",
    "def get_AP(m,gtlist,query):\n",
    "    all = 0\n",
    "    for k in range(1,m+1):\n",
    "        ret_docs = retrieve_doc(k,query)\n",
    "        prelist = [item.metadata['row'] for item in ret_docs]\n",
    "        precision = get_precision(gtlist, prelist)\n",
    "        all+=precision\n",
    "    return all/m  \n",
    "\n",
    "def fetch_AP(gtlist,query):\n",
    "    N = 500\n",
    "    ret_docs = retrieve_doc(N,query)\n",
    "    prelist = [item.metadata['row'] for item in ret_docs]\n",
    "    rem = len(gtlist)\n",
    "    idx = 0\n",
    "    plist = []\n",
    "    while(rem > 0 and idx<N):\n",
    "        prerow = prelist[idx]\n",
    "        if(prerow in gtlist):\n",
    "            plist.append((len(plist)+1)/(idx+1))\n",
    "            rem -= 1\n",
    "        else:\n",
    "            idx += 1\n",
    "    if(rem > 0):\n",
    "        print(\"error\")\n",
    "    return sum(plist)/len(plist)\n",
    "\n",
    "def get_mAP(labeltable,unique_qid):\n",
    "    n = len(unique_qid)\n",
    "    allAP = 0\n",
    "    for i in range(n):\n",
    "        qid = unique_qid[i]\n",
    "        labelpd = labeltable[labeltable['question_id'] == qid]\n",
    "        gtlist = labelpd.index\n",
    "        query = labelpd.iloc[0]['question']\n",
    "        inputm = len(gtlist)\n",
    "        AP = fetch_AP(gtlist,query)\n",
    "        allAP += AP\n",
    "    return allAP/n\n",
    "\n",
    "def get_RatK(labeltable, unique_qid, m):\n",
    "    n = len(unique_qid)\n",
    "    allR = 0\n",
    "    for i in range(n):\n",
    "        qid = unique_qid[i]\n",
    "        labelpd = labeltable[labeltable['question_id'] == qid]\n",
    "        gtlist = labelpd.index\n",
    "        query = labelpd.iloc[0]['question']\n",
    "        ret_docs = retrieve_doc(m,query)\n",
    "        prelist = [item.metadata['row'] for item in ret_docs]\n",
    "        recall = get_recall(gtlist, prelist)\n",
    "        allR += recall \n",
    "    return allR / n\n",
    "\n",
    "\n",
    "def get_PatK(labeltable,unique_qid,m):\n",
    "    n = len(unique_qid)\n",
    "    allP = 0\n",
    "    for i in range(n):\n",
    "        qid = unique_qid[i]\n",
    "        labelpd = labeltable[labeltable['question_id'] == qid]\n",
    "        gtlist = labelpd.index\n",
    "        query = labelpd.iloc[0]['question']\n",
    "        ret_docs = retrieve_doc(m,query)\n",
    "        prelist = [item.metadata['row'] for item in ret_docs]\n",
    "        precision = get_precision(gtlist, prelist)\n",
    "        allP += precision\n",
    "    return allP/n\n",
    "        "
   ]
  },
  {
   "cell_type": "code",
   "execution_count": 4,
   "metadata": {},
   "outputs": [
    {
     "name": "stderr",
     "output_type": "stream",
     "text": [
      "c:\\Users\\13060\\anaconda3\\envs\\hf\\lib\\site-packages\\langchain_core\\_api\\deprecation.py:119: LangChainDeprecationWarning: The method `BaseRetriever.get_relevant_documents` was deprecated in langchain-core 0.1.46 and will be removed in 0.3.0. Use invoke instead.\n",
      "  warn_deprecated(\n"
     ]
    }
   ],
   "source": [
    "passages = retrieve_doc(5,\"Who is the president of United States\")"
   ]
  },
  {
   "cell_type": "code",
   "execution_count": 11,
   "metadata": {},
   "outputs": [
    {
     "data": {
      "text/plain": [
       "Document(page_content='answer: The President of the United States of America (POTUS) is the head of state and head of government of the United States .', metadata={'source': 'The President of the United States of America (POTUS) is the head of state and head of government of the United States .', 'row': 382})"
      ]
     },
     "execution_count": 11,
     "metadata": {},
     "output_type": "execute_result"
    }
   ],
   "source": [
    "passages[0]"
   ]
  },
  {
   "cell_type": "code",
   "execution_count": 10,
   "metadata": {},
   "outputs": [
    {
     "data": {
      "text/plain": [
       "question_id                                                    Q216\n",
       "question          what do presidents make after they leave the w...\n",
       "document_title                       President of the United States\n",
       "answer            The President of the United States of America ...\n",
       "label                                                             0\n",
       "Name: 382, dtype: object"
      ]
     },
     "execution_count": 10,
     "metadata": {},
     "output_type": "execute_result"
    }
   ],
   "source": [
    "alldb.iloc[passages[0].metadata['row']]"
   ]
  },
  {
   "cell_type": "code",
   "execution_count": 33,
   "metadata": {},
   "outputs": [],
   "source": [
    "query = labeltable.iloc[2]['question']"
   ]
  },
  {
   "cell_type": "code",
   "execution_count": 34,
   "metadata": {},
   "outputs": [
    {
     "data": {
      "text/plain": [
       "'how old was sue lyon when she made lolita'"
      ]
     },
     "execution_count": 34,
     "metadata": {},
     "output_type": "execute_result"
    }
   ],
   "source": [
    "query"
   ]
  },
  {
   "cell_type": "code",
   "execution_count": 35,
   "metadata": {},
   "outputs": [],
   "source": [
    "passages = retrieve_doc(1,query)"
   ]
  },
  {
   "cell_type": "code",
   "execution_count": 36,
   "metadata": {},
   "outputs": [],
   "source": [
    "passage = \" \".join([item.page_content.replace(\"answer:\",\"\") for item in passages])"
   ]
  },
  {
   "cell_type": "code",
   "execution_count": 37,
   "metadata": {},
   "outputs": [
    {
     "data": {
      "text/plain": [
       "' The actress who played Lolita, Sue Lyon , was fourteen at the time of filming.'"
      ]
     },
     "execution_count": 37,
     "metadata": {},
     "output_type": "execute_result"
    }
   ],
   "source": [
    "passage"
   ]
  },
  {
   "cell_type": "code",
   "execution_count": 31,
   "metadata": {},
   "outputs": [],
   "source": [
    "def prompt(context,query):\n",
    "    p = f'''\n",
    "You are given a question, you should summarize answer based on give context\n",
    "question: {query}\n",
    "context: {context}\n",
    "'''\n",
    "    return p"
   ]
  },
  {
   "cell_type": "code",
   "execution_count": 32,
   "metadata": {},
   "outputs": [
    {
     "name": "stdout",
     "output_type": "stream",
     "text": [
      "\n",
      "You are given a question, you should summarize answer based on give context\n",
      "question: how a water pump works\n",
      "context:  Pumps operate by some mechanism (typically reciprocating or rotary ), and consume energy to perform mechanical work by moving the fluid.\n",
      "\n"
     ]
    }
   ],
   "source": [
    "print(prompt(passage,query))"
   ]
  },
  {
   "cell_type": "code",
   "execution_count": 43,
   "metadata": {},
   "outputs": [
    {
     "data": {
      "text/plain": [
       "0.9482167352537723"
      ]
     },
     "execution_count": 43,
     "metadata": {},
     "output_type": "execute_result"
    }
   ],
   "source": [
    "get_RatK(labeltable,unique_qid,10)"
   ]
  },
  {
   "cell_type": "code",
   "execution_count": 11,
   "metadata": {},
   "outputs": [
    {
     "data": {
      "text/plain": [
       "0.11111111111111147"
      ]
     },
     "execution_count": 11,
     "metadata": {},
     "output_type": "execute_result"
    }
   ],
   "source": [
    "get_PatK(labeltable,unique_qid,)"
   ]
  },
  {
   "cell_type": "code",
   "execution_count": 8,
   "metadata": {},
   "outputs": [
    {
     "data": {
      "text/plain": [
       "0.8653579760488987"
      ]
     },
     "execution_count": 8,
     "metadata": {},
     "output_type": "execute_result"
    }
   ],
   "source": [
    "get_mAP(labeltable, unique_qid)"
   ]
  },
  {
   "cell_type": "code",
   "execution_count": 49,
   "metadata": {},
   "outputs": [],
   "source": [
    "qid = unique_qid[3]\n",
    "labelpd = labeltable[labeltable['question_id'] == qid]\n",
    "gtlist = labelpd.index\n",
    "query = labelpd.iloc[0]['question']\n",
    "k = 5\n",
    "ret_docs = retrieve_doc(k,query)"
   ]
  },
  {
   "cell_type": "code",
   "execution_count": 44,
   "metadata": {},
   "outputs": [],
   "source": [
    "prelist = [item.metadata['row'] for item in ret_docs]"
   ]
  },
  {
   "cell_type": "code",
   "execution_count": 45,
   "metadata": {},
   "outputs": [
    {
     "data": {
      "text/plain": [
       "0.4"
      ]
     },
     "execution_count": 45,
     "metadata": {},
     "output_type": "execute_result"
    }
   ],
   "source": [
    "get_precision(gtlist, prelist)"
   ]
  }
 ],
 "metadata": {
  "kernelspec": {
   "display_name": "test",
   "language": "python",
   "name": "python3"
  },
  "language_info": {
   "codemirror_mode": {
    "name": "ipython",
    "version": 3
   },
   "file_extension": ".py",
   "mimetype": "text/x-python",
   "name": "python",
   "nbconvert_exporter": "python",
   "pygments_lexer": "ipython3",
   "version": "3.9.0"
  }
 },
 "nbformat": 4,
 "nbformat_minor": 2
}
